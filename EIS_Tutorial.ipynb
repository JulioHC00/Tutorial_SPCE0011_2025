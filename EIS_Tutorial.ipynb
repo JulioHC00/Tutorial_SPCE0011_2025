{
  "cells": [
    {
      "cell_type": "markdown",
      "id": "4a3e7568",
      "metadata": {
        "id": "4a3e7568"
      },
      "source": [
        "# Tutorial Session: Exploring Solar Spectra Using Hinode/EIS and Python"
      ]
    },
    {
      "cell_type": "markdown",
      "id": "ffb93c90",
      "metadata": {
        "id": "ffb93c90"
      },
      "source": [
        "Welcome everyone!!!\n",
        "In this session, we are going to explore and learn how to analyse and use the spectroscopic daata of the solar corona obtained from Hinode/EIS and SDO/AIA\n"
      ]
    },
    {
      "cell_type": "markdown",
      "id": "cb64799b",
      "metadata": {
        "id": "cb64799b"
      },
      "source": [
        "We will use python in our project. However, we do not have install any program since we can run it on a browser through Google Colab. Colab allow us to connect to computer on google server and do our python stuff through Notebook like this one for certain amount of time."
      ]
    },
    {
      "cell_type": "markdown",
      "id": "b770e214",
      "metadata": {
        "id": "b770e214"
      },
      "source": [
        "Notebook is divided in to multiple cells which contains block of codes\n",
        "- You can run each cell by pressing Shift+Enter on keyboard\n",
        "- You can edit or mess around any code, it will not affect the actual source code unless you save it as a copy to github.\n",
        "- To comment each line of code (i.e, prevent that line of code from running), type # in front of the line."
      ]
    },
    {
      "cell_type": "markdown",
      "id": "b2473fcf",
      "metadata": {
        "id": "b2473fcf"
      },
      "source": [
        "Note that Colab does not store any data once we disconnect, so we have to install these libraries every time we start a new session."
      ]
    },
    {
      "cell_type": "markdown",
      "id": "40ca877a",
      "metadata": {
        "id": "40ca877a"
      },
      "source": [
        "## Installing relevant modules"
      ]
    },
    {
      "cell_type": "markdown",
      "id": "ab4635af",
      "metadata": {
        "id": "ab4635af"
      },
      "source": [
        "Some python libraries we are going to use today is not availiable on Colab. Therefore, we have to download them first using the command below."
      ]
    },
    {
      "cell_type": "code",
      "execution_count": null,
      "id": "bfcab69e",
      "metadata": {
        "colab": {
          "base_uri": "https://localhost:8080/"
        },
        "id": "bfcab69e",
        "outputId": "c509048f-0301-4180-d15e-98c48d23b927"
      },
      "outputs": [],
      "source": [
        "!pip install astropy>=5.1\n",
        "!pip install -q sunpy[all]\n",
        "!pip install -q eispac[all]\n",
        "!pip install -U sunkit-image"
      ]
    },
    {
      "cell_type": "markdown",
      "id": "5afeeca7",
      "metadata": {
        "id": "5afeeca7"
      },
      "source": [
        "## Load libraries we need for fitting spectral lines and making EIS maps"
      ]
    },
    {
      "cell_type": "code",
      "execution_count": 2,
      "id": "5f48afb6",
      "metadata": {
        "id": "5f48afb6"
      },
      "outputs": [],
      "source": [
        "import numpy as np\n",
        "import matplotlib.pyplot as plt\n",
        "from matplotlib import colors\n",
        "import sunpy\n",
        "import sunpy.map\n",
        "import sunkit_image.coalignment\n",
        "from pathlib import Path\n",
        "import os\n",
        "import astropy.units as u\n",
        "import eispac\n",
        "# from eispac.net.attrs import FileType\n",
        "from astropy.coordinates import SkyCoord\n",
        "from sunpy.net import Fido,attrs as a\n",
        "from sunpy.time import parse_time\n",
        "from astropy.visualization import ImageNormalize\n",
        "\n",
        "# list of templates for fitting some line profiles\n",
        "templates_list = {\n",
        "    'fe_10_184_536' : ['fe_10_184_536.1c.template.h5', 0],\n",
        "    'fe_08_185_213' : ['fe_08_185_213.1c.template.h5', 0],\n",
        "    'fe_11_188_216' : ['fe_11_188_216.2c.template.h5', 0],\n",
        "    'fe_11_188_299' : ['fe_11_188_299.2c.template.h5', 1],\n",
        "    'fe_09_188_497' : ['fe_09_188_497.3c.template.h5', 0],\n",
        "    'ca_14_193_874' : ['ca_14_193_874.6c.template.h5', 1],\n",
        "    'ar_14_194_396' : ['ar_14_194_396.6c.template.h5', 5],\n",
        "    'fe_12_195_119' : ['fe_12_195_119.2c.template.h5', 0],\n",
        "    'fe_13_201_121' : ['fe_13_201_121.2c.template.h5', 1],\n",
        "    'fe_13_202_044' : ['fe_13_202_044.1c.template.h5', 0],\n",
        "    'fe_13_203_826' : ['fe_13_203_826.2c.template.h5', 1],\n",
        "    'si_10_258_375' : ['si_10_258_375.1c.template.h5', 0],\n",
        "    'si_10_261_058' : ['si_10_261_058.1c.template.h5', 0],\n",
        "    'fe_16_262_984' : ['fe_16_262_984.1c.template.h5', 0],\n",
        "    's_10_264_233' : ['s__10_264_233.1c.template.h5', 0],\n",
        "    'fe_14_264_787' : ['fe_14_264_787.1c.template.h5', 0],\n",
        "    'fe_15_284_160' : ['fe_15_284_160.2c.template.h5', 1]}\n"
      ]
    },
    {
      "cell_type": "markdown",
      "id": "98d3a589",
      "metadata": {
        "id": "98d3a589"
      },
      "source": [
        "## Download the Hinode/EIS data from online database (May took a while)\n",
        "\n",
        "The prepped EIS data are stored at https://eis.nrl.navy.mil/"
      ]
    },
    {
      "cell_type": "code",
      "execution_count": null,
      "id": "88dc92db",
      "metadata": {
        "colab": {
          "base_uri": "https://localhost:8080/",
          "height": 260,
          "referenced_widgets": [
            "aaa15cc438b94a788d1862ef5a7cbbca",
            "c00478d5391b4d04b922e640b4649e6f",
            "d00c9f8866e24a8588dd327a3a3f033b",
            "49ee16ff121c4145827c0df721fb5476",
            "cacdcf347a0c43f8a9d7032455e5ad15",
            "8f793ced6d8142a580610f10516d84fc",
            "f0cf1f0530c94bb29ec10c56d5e42bc3",
            "77c08d686d6347039d2361300a9594e7",
            "dab4d4431fe14065bc5298a0b3806f83",
            "fe400766f7e648b3a67a96ba9e4c4055",
            "7c5dee00be6e40f786f0cd4877e55a93",
            "43dcac7307ee4c1a9ac7c4e5c8407729",
            "a2620e0d0764402aad5bcf23fecdbcc0",
            "93802354bb2e46219d72196b54b1f3c5",
            "50f0cd4d9b6e4c9bb73fddf235d1fc4e",
            "37e0a38331b6471889768dbb5c040822",
            "e085f854a67843cea527fe9f49cace07",
            "8ba30e137f524ceb9bfb03d2c9fdbb83",
            "f97a910a100346b2a5e9bfe2f8524a3c",
            "7554b1d4815b4b23be36d4bb1f55f794",
            "877fc1fd79574201a3917ead63fb410b",
            "f2b9fff6cacd4b91b25214a061af07a2"
          ]
        },
        "id": "88dc92db",
        "outputId": "417117f5-86f6-49c6-9402-a5e7ac4658e2"
      },
      "outputs": [],
      "source": [
        "EISfile = eispac.download.download_hdf5_data('eis_20110208_153218.data.h5')"
      ]
    },
    {
      "cell_type": "markdown",
      "id": "7418d249",
      "metadata": {},
      "source": [
        "if the code above does not work, you can download the file manually from the following link. Only run this one block below if there is an error in previous block"
      ]
    },
    {
      "cell_type": "code",
      "execution_count": null,
      "id": "b6aba2b7",
      "metadata": {
        "colab": {
          "base_uri": "https://localhost:8080/"
        },
        "id": "b6aba2b7",
        "outputId": "d2183178-6e04-4001-dcf6-60ae1af30f4b"
      },
      "outputs": [],
      "source": [
        "# if the code above does not work, you can download the file manually from the following link:\n",
        "import urllib.request\n",
        "os.makedirs('./data_eis', exist_ok=True)\n",
        "url1 = 'https://www.mssl.ucl.ac.uk/~nn2/EIS_Tutorial_data/eis_20110208_153218.data.h5'\n",
        "urllib.request.urlretrieve(url1, './data_eis/eis_20110208_153218.data.h5')\n",
        "url2 = 'https://www.mssl.ucl.ac.uk/~nn2/EIS_Tutorial_data/eis_20110208_153218.head.h5'\n",
        "urllib.request.urlretrieve(url2, './data_eis/eis_20110208_153218.head.h5')"
      ]
    },
    {
      "cell_type": "markdown",
      "id": "05f22903",
      "metadata": {
        "id": "05f22903"
      },
      "source": [
        "You can find that the folder 'data_eis' is created and shown on the panel on the left. Inside the folder, you will see two file which ends with .h5. These are the EIS data that we will be using."
      ]
    },
    {
      "cell_type": "markdown",
      "id": "bd22f507",
      "metadata": {
        "id": "bd22f507"
      },
      "source": [
        "## Select the dataset and the spectral line we want to fit"
      ]
    },
    {
      "cell_type": "code",
      "execution_count": 8,
      "id": "5a8944ac",
      "metadata": {
        "id": "5a8944ac"
      },
      "outputs": [],
      "source": [
        "data_filename = './data_eis/eis_20110208_153218.data.h5' # path to the file (don't forget to include folder name)\n",
        "line = 'fe_12_195_119' # choose the spectral line to look and fit\n",
        "template = eispac.read_template(eispac.data.get_fit_template_filepath(templates_list[line][0]))"
      ]
    },
    {
      "cell_type": "markdown",
      "id": "3653a4e4",
      "metadata": {
        "id": "3653a4e4"
      },
      "source": [
        "## Reading and inspecting the data"
      ]
    },
    {
      "cell_type": "code",
      "execution_count": null,
      "id": "4814f96f",
      "metadata": {
        "colab": {
          "base_uri": "https://localhost:8080/"
        },
        "id": "4814f96f",
        "outputId": "4fd841e9-1c12-4e46-e03e-68e4c2515b5b"
      },
      "outputs": [],
      "source": [
        "cube = eispac.read_cube(data_filename, window=template.central_wave) # read the data at our desired wavelength"
      ]
    },
    {
      "cell_type": "code",
      "execution_count": null,
      "id": "3576eef9",
      "metadata": {
        "colab": {
          "base_uri": "https://localhost:8080/"
        },
        "id": "3576eef9",
        "outputId": "7c8b7c83-c0a7-49f8-e6b5-8e60e3dcb0e1"
      },
      "outputs": [],
      "source": [
        "# see the dimensions of the data cube\n",
        "print(cube.dimensions) # (y-axis, x-axis, wavelength-axis)"
      ]
    },
    {
      "cell_type": "code",
      "execution_count": null,
      "id": "cc879bc5",
      "metadata": {},
      "outputs": [],
      "source": [
        "# see the time of the observations (start,  end)\n",
        "print(cube.meta['mod_index']['date_beg'], ',' , cube.meta['mod_index']['date_end'])"
      ]
    },
    {
      "cell_type": "markdown",
      "id": "a08e7e9b",
      "metadata": {
        "id": "a08e7e9b"
      },
      "source": [
        "Let's look at the spectra profile from one random pixel"
      ]
    },
    {
      "cell_type": "code",
      "execution_count": null,
      "id": "f2f72031",
      "metadata": {
        "id": "f2f72031",
        "outputId": "5bef163d-def8-43b7-9d2f-e37e7d70c2da"
      },
      "outputs": [],
      "source": [
        "ix = 48 # pixel index in the x-axis\n",
        "iy = 326 # pixel index in the y-axis\n",
        "\n",
        "spec = cube[iy,ix,:] # extract the spectrum from the data cube at one pixel for all wavelengths\n",
        "spec_inten = spec.data # intensity\n",
        "spec_wave = spec.wavelength # wavelength\n",
        "spec_err = spec.uncertainty.array #error\n",
        "\n",
        "\n",
        "# plot the spectrum\n",
        "plt.figure()\n",
        "plt.errorbar(spec_wave, spec_inten, yerr=spec_err, fmt='-')\n",
        "plt.xlabel('Wavelength [Angstrom]')\n",
        "plt.ylabel('Intensity')\n",
        "plt.title(f'Cutout indices: iy = {iy}, ix = {ix}')\n",
        "plt.ylim(0, 1.1*np.max(spec_inten))\n",
        "plt.xlim(template.central_wave - 0.5, template.central_wave + 0.5)\n",
        "plt.axvline(template.central_wave, color='r', linestyle='--', label=f'{template.central_wave:.2f} [$\\AA$]')\n"
      ]
    },
    {
      "cell_type": "markdown",
      "id": "2f95af0b",
      "metadata": {
        "id": "2f95af0b"
      },
      "source": [
        "We can also plot the quicklook of EIS data - to get the idea on what feature Hinode/EIS was looking at when it made observation.\n",
        "\n",
        "Note that at this stage, we have not done any analysis yet, so this quicklook can't be used for scientific interpretation."
      ]
    },
    {
      "cell_type": "code",
      "execution_count": null,
      "id": "8ba1b326",
      "metadata": {
        "id": "8ba1b326",
        "outputId": "53eb2856-97b9-4b62-9722-522dedcd4daf"
      },
      "outputs": [],
      "source": [
        "# sum the data along the wavelength axis to create an image\n",
        "raster_sum = np.sum(cube.data, axis=2)\n",
        "# take the log10 of the sum to make the image more visible\n",
        "scaled_img = np.log10(raster_sum)\n",
        "\n",
        "plt.figure()\n",
        "plt.imshow(scaled_img, origin='lower', extent=cube.meta['extent_arcsec'], cmap='plasma')\n",
        "plt.title(cube.meta['date_obs'][-1])\n",
        "plt.xlabel('Solar-X [arcsec]')\n",
        "plt.ylabel('Solar-Y [arcsec]')\n",
        "plt.colorbar()\n",
        "plt.show()\n"
      ]
    },
    {
      "cell_type": "markdown",
      "id": "f07961c0",
      "metadata": {
        "id": "f07961c0"
      },
      "source": [
        "## Spectral line fitting\n",
        "We now fit the line chosen earlier in each pixel of the EIS dataset."
      ]
    },
    {
      "cell_type": "markdown",
      "id": "fc27d881",
      "metadata": {
        "id": "fc27d881"
      },
      "source": [
        "### Pop quiz: Which function is suitable for fitting spectral data, and why??"
      ]
    },
    {
      "cell_type": "code",
      "execution_count": null,
      "id": "7cfffcc4",
      "metadata": {
        "id": "7cfffcc4"
      },
      "outputs": [],
      "source": [
        "# write your answer here (after the # sign)\n",
        "#"
      ]
    },
    {
      "cell_type": "code",
      "execution_count": null,
      "id": "82af16e9",
      "metadata": {
        "colab": {
          "base_uri": "https://localhost:8080/"
        },
        "id": "82af16e9",
        "outputId": "059e88f2-7a3f-41b8-ccd1-6514f516a5f4"
      },
      "outputs": [],
      "source": [
        "#check if the fit we want already exists\n",
        "path = Path(data_filename.replace(\"data.h5\",templates_list[line][0]).replace(\".template\",f\"-{templates_list[line][1]}.fit\"))\n",
        "if path.is_file() == False:\n",
        "    print('let\\'s fit')\n",
        "    #if the file is not there, fit the line\n",
        "    cube = eispac.read_cube(data_filename, window=template.central_wave)\n",
        "    fit_res = eispac.fit_spectra(cube, template, ncpu='max')\n",
        "    eispac.save_fit(fit_res)\n",
        "else:\n",
        "    print('no need to fit')\n",
        "    #if the file is there already, load it\n",
        "    cube = eispac.read_cube(data_filename, window=template.central_wave)\n",
        "    fit_res=eispac.read_fit(path)"
      ]
    },
    {
      "cell_type": "markdown",
      "id": "a07771f0",
      "metadata": {
        "id": "a07771f0"
      },
      "source": [
        "## Some recap while we are waiting for the fitting process.....\n",
        "\n",
        "We fit spectral lines using a Gaussian function:\n",
        "\n",
        "$ f(x) = A e^{-\\frac{(x-m)^2}{2\\sigma^2}}$,\n",
        "\n",
        "The fitted Gaussian function looks like this:\n",
        "\n",
        "![Gaussian.png](https://www.mssl.ucl.ac.uk/~nn2/EIS_Tutorial_data/Gaussian.png)"
      ]
    },
    {
      "cell_type": "markdown",
      "id": "0d706bcc",
      "metadata": {
        "id": "0d706bcc"
      },
      "source": [
        "### Pop Quiz: How can we use the fitted Gaussian to calculate the emission intensity and the doppler velocity of the plasma?"
      ]
    },
    {
      "cell_type": "code",
      "execution_count": null,
      "id": "fe2c4a7c",
      "metadata": {
        "id": "fe2c4a7c"
      },
      "outputs": [],
      "source": [
        "# write the formula to calculate these values here....... (after the # sign)\n",
        "#\n",
        "#"
      ]
    },
    {
      "cell_type": "markdown",
      "id": "15a52d0f",
      "metadata": {
        "id": "15a52d0f"
      },
      "source": [
        "## Plot the intensity map\n",
        "During the fitting process, we calculated the spectral line intensity for each pixel. Remember that the spectral line intensity is the area under the Gaussian curve."
      ]
    },
    {
      "cell_type": "code",
      "execution_count": null,
      "id": "075f74c3",
      "metadata": {
        "colab": {
          "base_uri": "https://localhost:8080/",
          "height": 765
        },
        "id": "075f74c3",
        "outputId": "cde283d3-81c2-4a49-b950-f33f7e58da1c"
      },
      "outputs": [],
      "source": [
        "eismap_intensity = fit_res.get_map(component=templates_list[line][1],measurement='intensity')\n",
        "\n",
        "plt.figure(figsize=(10, 10))\n",
        "eismap_intensity.plot()\n",
        "plt.colorbar()"
      ]
    },
    {
      "cell_type": "markdown",
      "id": "a952e455",
      "metadata": {
        "id": "a952e455"
      },
      "source": [
        "## Plot the velocity map\n",
        "\n",
        "During the fitting process, we calculated the spectral line shift for each pixel. Remember that the spectral line shift is the difference between the center of the measured spectral line and the rest wavelength. This gives us information about the plasma velocity."
      ]
    },
    {
      "cell_type": "code",
      "execution_count": null,
      "id": "893415af",
      "metadata": {
        "colab": {
          "base_uri": "https://localhost:8080/",
          "height": 765
        },
        "id": "893415af",
        "outputId": "413096db-490e-42c1-940a-0566872902cf"
      },
      "outputs": [],
      "source": [
        "eismap_velocity = fit_res.get_map(component=templates_list[line][1],measurement='velocity')\n",
        "\n",
        "plt.figure(figsize=(10, 10))\n",
        "eismap_velocity.plot()\n",
        "plt.colorbar()"
      ]
    },
    {
      "cell_type": "markdown",
      "id": "17e28090",
      "metadata": {
        "id": "17e28090"
      },
      "source": [
        "## Check the line profile from a chosen pixel\n",
        "\n",
        "You can change the x and y values below to look at the profile of another pixel. Try couple of pixels to see if there are any differences based on the location"
      ]
    },
    {
      "cell_type": "code",
      "execution_count": null,
      "id": "9e244d10",
      "metadata": {
        "id": "9e244d10"
      },
      "outputs": [],
      "source": [
        "y = -520 # solar-y coordinate in arcsec\n",
        "x = -465 # solar-x coordinate in arcsec"
      ]
    },
    {
      "cell_type": "code",
      "execution_count": null,
      "id": "GyWa5iokRknn",
      "metadata": {
        "colab": {
          "base_uri": "https://localhost:8080/",
          "height": 488
        },
        "id": "GyWa5iokRknn",
        "outputId": "e619deba-e8d5-41ef-be36-8a004a8696a1"
      },
      "outputs": [],
      "source": [
        "# Convert the arcsec coordinates to pixel coordinates\n",
        "arcsec_coordinate = SkyCoord(x*u.arcsec, y*u.arcsec, frame=eismap_intensity.coordinate_frame)\n",
        "point_coordinates = eismap_intensity.world_to_pixel(arcsec_coordinate)\n",
        "\n",
        "# Extract raw data (cube)\n",
        "data_x = cube.wavelength[int(point_coordinates.y.value), int(point_coordinates.x.value), :]\n",
        "data_y = cube.data[int(point_coordinates.y.value), int(point_coordinates.x.value), :]\n",
        "data_err = cube.uncertainty.array[int(point_coordinates.y.value), int(point_coordinates.x.value), :]\n",
        "\n",
        "# Extract fit profile (fit_res) and interpolate fit at higher spectral resolution\n",
        "fit_x, fit_y = fit_res.get_fit_profile(coords=[int(point_coordinates.y.value),int(point_coordinates.x.value)], num_wavelengths=100)\n",
        "c0_x, c0_y = fit_res.get_fit_profile(0, coords=[int(point_coordinates.y.value),int(point_coordinates.x.value)], num_wavelengths=100)\n",
        "c1_x, c1_y = fit_res.get_fit_profile(1, coords=[int(point_coordinates.y.value),int(point_coordinates.x.value)], num_wavelengths=100)\n",
        "c2_x, c2_y = fit_res.get_fit_profile(2, coords=[int(point_coordinates.y.value),int(point_coordinates.x.value)], num_wavelengths=100)\n",
        "\n",
        "\n",
        "# Make a multi-panel figure with the cutout and example profile\n",
        "fig = plt.figure(figsize=[23,8])\n",
        "plot_grid = fig.add_gridspec(nrows=1, ncols=3, wspace=0.3)\n",
        "\n",
        "data_subplt1 = fig.add_subplot(plot_grid[0,0], projection=eismap_intensity)\n",
        "eismap_intensity.plot(axes = data_subplt1)\n",
        "data_subplt1.scatter(int(point_coordinates.x.value), int(point_coordinates.y.value), color='r', marker='x')\n",
        "\n",
        "data_subplt2 = fig.add_subplot(plot_grid[0,1], projection=eismap_velocity)\n",
        "eismap_velocity.plot(axes = data_subplt2)\n",
        "data_subplt2.scatter(int(point_coordinates.x.value), int(point_coordinates.y.value), color='r', marker='x')\n",
        "\n",
        "\n",
        "profile_subplt = fig.add_subplot(plot_grid[0,2])\n",
        "profile_subplt.errorbar(data_x, data_y, yerr=data_err, ls='', marker='o', color='k')\n",
        "profile_subplt.plot(fit_x, fit_y, color='b', label='Combined profile')\n",
        "profile_subplt.plot(c0_x, c0_y, color='r', label=fit_res.fit['line_ids'][0])\n",
        "profile_subplt.plot(c1_x, c1_y, color='r', ls='--', label=fit_res.fit['line_ids'][1])\n",
        "profile_subplt.plot(c2_x, c2_y, color='g', label='Background')\n",
        "profile_subplt.set_title(f'Cutout at: x = {x} \\'\\', y = {y}\\'\\'')\n",
        "profile_subplt.set_xlabel('Wavelength [$\\AA$]')\n",
        "profile_subplt.set_ylabel('Intensity ['+cube.unit.to_string()+']')\n",
        "profile_subplt.legend(loc='upper left', frameon=False)\n",
        "profile_subplt.set_xlim(template.central_wave - 0.5, template.central_wave + 0.5)\n",
        "profile_subplt.axvline(template.central_wave, color='r', linestyle='--', label=f'{template.central_wave:.2f} [$\\AA$]')\n",
        "\n",
        "plt.show()"
      ]
    },
    {
      "cell_type": "markdown",
      "id": "641c26dc",
      "metadata": {
        "id": "641c26dc"
      },
      "source": [
        "## Draw contours on EIS map\n",
        "First, define the contour thresholds by intensity."
      ]
    },
    {
      "cell_type": "code",
      "execution_count": null,
      "id": "psu86MPIX7HX",
      "metadata": {
        "id": "psu86MPIX7HX"
      },
      "outputs": [],
      "source": [
        "intensity_level = [200]"
      ]
    },
    {
      "cell_type": "code",
      "execution_count": null,
      "id": "45ab04ca",
      "metadata": {
        "colab": {
          "base_uri": "https://localhost:8080/",
          "height": 552
        },
        "id": "45ab04ca",
        "outputId": "e1a75b41-d1ed-4fe6-b87a-8754bacc8fae"
      },
      "outputs": [],
      "source": [
        "# Make a multi-panel figure with the cutout and example profile\n",
        "fig = plt.figure(figsize=[15,8])\n",
        "plot_grid = fig.add_gridspec(nrows=1, ncols=3, wspace=0.3)\n",
        "\n",
        "data_subplt1 = fig.add_subplot(plot_grid[0,0], projection=eismap_intensity)\n",
        "eismap_intensity.plot(axes = data_subplt1)\n",
        "eismap_intensity.draw_contours(intensity_level*eismap_intensity.unit, axes=data_subplt1, cmap='hot', alpha=1.0)\n",
        "\n",
        "data_subplt2 = fig.add_subplot(plot_grid[0,1], projection=eismap_velocity)\n",
        "eismap_velocity.plot(axes = data_subplt2)\n",
        "eismap_intensity.draw_contours(intensity_level*eismap_intensity.unit, axes=data_subplt2, cmap='hot', alpha=1.0)"
      ]
    },
    {
      "cell_type": "markdown",
      "id": "bb64aea4",
      "metadata": {
        "id": "bb64aea4"
      },
      "source": [
        "### Exercise: find the region with the highest intensity."
      ]
    },
    {
      "cell_type": "code",
      "execution_count": null,
      "id": "1910a6a6",
      "metadata": {
        "id": "1910a6a6"
      },
      "outputs": [],
      "source": [
        "# hint: use your observations and try to varies the intensity_level to see the changes in the plot"
      ]
    },
    {
      "cell_type": "markdown",
      "id": "mdM2wXo8ZKVt",
      "metadata": {
        "id": "mdM2wXo8ZKVt"
      },
      "source": [
        "Now, define the contour threshold by velocity."
      ]
    },
    {
      "cell_type": "code",
      "execution_count": null,
      "id": "GI3YJmNoY7PP",
      "metadata": {
        "id": "GI3YJmNoY7PP"
      },
      "outputs": [],
      "source": [
        "velocity_level = [-14]"
      ]
    },
    {
      "cell_type": "code",
      "execution_count": null,
      "id": "G5zRvwqHY7Xo",
      "metadata": {
        "colab": {
          "base_uri": "https://localhost:8080/",
          "height": 552
        },
        "id": "G5zRvwqHY7Xo",
        "outputId": "efbfb782-0fbd-4307-e11a-950bb46c6278"
      },
      "outputs": [],
      "source": [
        "# Make a multi-panel figure with the cutout and example profile\n",
        "fig = plt.figure(figsize=[15,8])\n",
        "plot_grid = fig.add_gridspec(nrows=1, ncols=3, wspace=0.3)\n",
        "\n",
        "data_subplt1 = fig.add_subplot(plot_grid[0,0], projection=eismap_intensity)\n",
        "eismap_intensity.plot(axes = data_subplt1)\n",
        "eismap_velocity.draw_contours(velocity_level*eismap_velocity.unit, axes=data_subplt1, cmap='hot', alpha=1.0)\n",
        "\n",
        "data_subplt2 = fig.add_subplot(plot_grid[0,1], projection=eismap_velocity)\n",
        "eismap_velocity.plot(axes = data_subplt2)\n",
        "eismap_velocity.draw_contours(velocity_level*eismap_velocity.unit, axes=data_subplt2, cmap='hot', alpha=1.0)"
      ]
    },
    {
      "cell_type": "markdown",
      "id": "F4k7QUMebEnd",
      "metadata": {
        "id": "F4k7QUMebEnd"
      },
      "source": [
        "### Exercise: find the area with the highest plasma velocity."
      ]
    },
    {
      "cell_type": "code",
      "execution_count": null,
      "id": "3e0c2345",
      "metadata": {
        "id": "3e0c2345"
      },
      "outputs": [],
      "source": [
        "# hint: use your observations and try to varies the velocity_level to see the changes in the plot"
      ]
    },
    {
      "cell_type": "markdown",
      "id": "htqR8o3pbU5j",
      "metadata": {
        "id": "htqR8o3pbU5j"
      },
      "source": [
        "### Additional Exercise: if you found this easy, then let's try to use the code blocks in previous section and plot the profiles in the regions with high intensity or high velocity."
      ]
    },
    {
      "cell_type": "code",
      "execution_count": null,
      "id": "b69e37f4",
      "metadata": {
        "id": "b69e37f4"
      },
      "outputs": [],
      "source": [
        "# write your code here"
      ]
    },
    {
      "cell_type": "markdown",
      "id": "5ba99c54",
      "metadata": {
        "id": "5ba99c54"
      },
      "source": [
        "## Bonus: Make a cotemporal AIA map and overplot the field of view of EIS\n",
        "\n",
        "\n",
        "We first download the AIA data from the Virtual Solar Observatory (VSO)."
      ]
    },
    {
      "cell_type": "code",
      "execution_count": null,
      "id": "a21bf418",
      "metadata": {
        "colab": {
          "base_uri": "https://localhost:8080/",
          "height": 427,
          "referenced_widgets": [
            "03abf643bd44475c825ebb2b641f72b0",
            "4150149ac5f841f299886baa61fa7be5",
            "9227cb9e8f9c43aca05768d4ae99d0c5",
            "d6e2e159a7bd40d4a2bb763784987c44",
            "446d8a476c004c8dbd5fe9ec83f0177d",
            "85354dec85e7468ebb4ee1d83ce84929",
            "1950e01ca22a4285a0c5c3b915f02305",
            "590597bb6ce347939c4b286d0430e4a5",
            "01198ed4757f49d59352b8c4c86a079e",
            "79d2387849e84cf7b8b55ca4c6c092cb",
            "b5576529250b4a2384f3023c6675f8e5"
          ]
        },
        "id": "a21bf418",
        "outputId": "fc0969d3-0089-4bb7-acd6-f7a83efd689e"
      },
      "outputs": [],
      "source": [
        "time_range = a.Time(parse_time(eismap_intensity.meta['date_beg']),parse_time(eismap_intensity.meta['date_beg'])+30*u.minute) # time range for the AIA data, cooresponding to the EIS data\n",
        "\n",
        "#Download an AIA 193 map\n",
        "aia_193 = time_range & a.Instrument.aia & a.Wavelength(193*u.angstrom)\n",
        "aia_193_search = Fido.search(aia_193)\n",
        "aia_193_result = Fido.fetch(aia_193_search[0][0])\n",
        "aia_193_map = sunpy.map.Map(aia_193_result[0])\n"
      ]
    },
    {
      "cell_type": "markdown",
      "id": "85195600",
      "metadata": {
        "id": "85195600"
      },
      "source": [
        "Then we can plot the image of the Sun, with the field-of-view of EIS overplotted on top in red"
      ]
    },
    {
      "cell_type": "code",
      "execution_count": null,
      "id": "42f236b1",
      "metadata": {
        "id": "42f236b1"
      },
      "outputs": [],
      "source": [
        "fig = plt.figure(figsize=[10,10])\n",
        "ax = fig.add_subplot(111, projection=aia_193_map)\n",
        "aia_193_map.plot(axes=ax)\n",
        "eismap_intensity.draw_quadrangle(eismap_intensity.bottom_left_coord, top_right = eismap_intensity.top_right_coord, axes=ax, color='r')"
      ]
    },
    {
      "cell_type": "markdown",
      "id": "3cefe507",
      "metadata": {
        "id": "3cefe507"
      },
      "source": [
        "That's done for today! Hope this module is helpful to you in learning Solar Physics!"
      ]
    },
    {
      "cell_type": "markdown",
      "id": "6a482e99",
      "metadata": {
        "id": "6a482e99"
      },
      "source": []
    }
  ],
  "metadata": {
    "colab": {
      "provenance": []
    },
    "kernelspec": {
      "display_name": "Python 3 (ipykernel)",
      "language": "python",
      "name": "python3"
    },
    "language_info": {
      "codemirror_mode": {
        "name": "ipython",
        "version": 3
      },
      "file_extension": ".py",
      "mimetype": "text/x-python",
      "name": "python",
      "nbconvert_exporter": "python",
      "pygments_lexer": "ipython3",
      "version": "3.8.13"
    },
    "widgets": {
      "application/vnd.jupyter.widget-state+json": {
        "01198ed4757f49d59352b8c4c86a079e": {
          "model_module": "@jupyter-widgets/controls",
          "model_module_version": "1.5.0",
          "model_name": "ProgressStyleModel",
          "state": {
            "_model_module": "@jupyter-widgets/controls",
            "_model_module_version": "1.5.0",
            "_model_name": "ProgressStyleModel",
            "_view_count": null,
            "_view_module": "@jupyter-widgets/base",
            "_view_module_version": "1.2.0",
            "_view_name": "StyleView",
            "bar_color": null,
            "description_width": ""
          }
        },
        "03abf643bd44475c825ebb2b641f72b0": {
          "model_module": "@jupyter-widgets/controls",
          "model_module_version": "1.5.0",
          "model_name": "HBoxModel",
          "state": {
            "_dom_classes": [],
            "_model_module": "@jupyter-widgets/controls",
            "_model_module_version": "1.5.0",
            "_model_name": "HBoxModel",
            "_view_count": null,
            "_view_module": "@jupyter-widgets/controls",
            "_view_module_version": "1.5.0",
            "_view_name": "HBoxView",
            "box_style": "",
            "children": [
              "IPY_MODEL_4150149ac5f841f299886baa61fa7be5",
              "IPY_MODEL_9227cb9e8f9c43aca05768d4ae99d0c5",
              "IPY_MODEL_d6e2e159a7bd40d4a2bb763784987c44"
            ],
            "layout": "IPY_MODEL_446d8a476c004c8dbd5fe9ec83f0177d"
          }
        },
        "1950e01ca22a4285a0c5c3b915f02305": {
          "model_module": "@jupyter-widgets/controls",
          "model_module_version": "1.5.0",
          "model_name": "DescriptionStyleModel",
          "state": {
            "_model_module": "@jupyter-widgets/controls",
            "_model_module_version": "1.5.0",
            "_model_name": "DescriptionStyleModel",
            "_view_count": null,
            "_view_module": "@jupyter-widgets/base",
            "_view_module_version": "1.2.0",
            "_view_name": "StyleView",
            "description_width": ""
          }
        },
        "37e0a38331b6471889768dbb5c040822": {
          "model_module": "@jupyter-widgets/base",
          "model_module_version": "1.2.0",
          "model_name": "LayoutModel",
          "state": {
            "_model_module": "@jupyter-widgets/base",
            "_model_module_version": "1.2.0",
            "_model_name": "LayoutModel",
            "_view_count": null,
            "_view_module": "@jupyter-widgets/base",
            "_view_module_version": "1.2.0",
            "_view_name": "LayoutView",
            "align_content": null,
            "align_items": null,
            "align_self": null,
            "border": null,
            "bottom": null,
            "display": null,
            "flex": null,
            "flex_flow": null,
            "grid_area": null,
            "grid_auto_columns": null,
            "grid_auto_flow": null,
            "grid_auto_rows": null,
            "grid_column": null,
            "grid_gap": null,
            "grid_row": null,
            "grid_template_areas": null,
            "grid_template_columns": null,
            "grid_template_rows": null,
            "height": null,
            "justify_content": null,
            "justify_items": null,
            "left": null,
            "margin": null,
            "max_height": null,
            "max_width": null,
            "min_height": null,
            "min_width": null,
            "object_fit": null,
            "object_position": null,
            "order": null,
            "overflow": null,
            "overflow_x": null,
            "overflow_y": null,
            "padding": null,
            "right": null,
            "top": null,
            "visibility": null,
            "width": null
          }
        },
        "4150149ac5f841f299886baa61fa7be5": {
          "model_module": "@jupyter-widgets/controls",
          "model_module_version": "1.5.0",
          "model_name": "HTMLModel",
          "state": {
            "_dom_classes": [],
            "_model_module": "@jupyter-widgets/controls",
            "_model_module_version": "1.5.0",
            "_model_name": "HTMLModel",
            "_view_count": null,
            "_view_module": "@jupyter-widgets/controls",
            "_view_module_version": "1.5.0",
            "_view_name": "HTMLView",
            "description": "",
            "description_tooltip": null,
            "layout": "IPY_MODEL_85354dec85e7468ebb4ee1d83ce84929",
            "placeholder": "​",
            "style": "IPY_MODEL_1950e01ca22a4285a0c5c3b915f02305",
            "value": "Files Downloaded:   0%"
          }
        },
        "43dcac7307ee4c1a9ac7c4e5c8407729": {
          "model_module": "@jupyter-widgets/controls",
          "model_module_version": "1.5.0",
          "model_name": "HBoxModel",
          "state": {
            "_dom_classes": [],
            "_model_module": "@jupyter-widgets/controls",
            "_model_module_version": "1.5.0",
            "_model_name": "HBoxModel",
            "_view_count": null,
            "_view_module": "@jupyter-widgets/controls",
            "_view_module_version": "1.5.0",
            "_view_name": "HBoxView",
            "box_style": "",
            "children": [
              "IPY_MODEL_a2620e0d0764402aad5bcf23fecdbcc0",
              "IPY_MODEL_93802354bb2e46219d72196b54b1f3c5",
              "IPY_MODEL_50f0cd4d9b6e4c9bb73fddf235d1fc4e"
            ],
            "layout": "IPY_MODEL_37e0a38331b6471889768dbb5c040822"
          }
        },
        "446d8a476c004c8dbd5fe9ec83f0177d": {
          "model_module": "@jupyter-widgets/base",
          "model_module_version": "1.2.0",
          "model_name": "LayoutModel",
          "state": {
            "_model_module": "@jupyter-widgets/base",
            "_model_module_version": "1.2.0",
            "_model_name": "LayoutModel",
            "_view_count": null,
            "_view_module": "@jupyter-widgets/base",
            "_view_module_version": "1.2.0",
            "_view_name": "LayoutView",
            "align_content": null,
            "align_items": null,
            "align_self": null,
            "border": null,
            "bottom": null,
            "display": null,
            "flex": null,
            "flex_flow": null,
            "grid_area": null,
            "grid_auto_columns": null,
            "grid_auto_flow": null,
            "grid_auto_rows": null,
            "grid_column": null,
            "grid_gap": null,
            "grid_row": null,
            "grid_template_areas": null,
            "grid_template_columns": null,
            "grid_template_rows": null,
            "height": null,
            "justify_content": null,
            "justify_items": null,
            "left": null,
            "margin": null,
            "max_height": null,
            "max_width": null,
            "min_height": null,
            "min_width": null,
            "object_fit": null,
            "object_position": null,
            "order": null,
            "overflow": null,
            "overflow_x": null,
            "overflow_y": null,
            "padding": null,
            "right": null,
            "top": null,
            "visibility": null,
            "width": null
          }
        },
        "49ee16ff121c4145827c0df721fb5476": {
          "model_module": "@jupyter-widgets/controls",
          "model_module_version": "1.5.0",
          "model_name": "HTMLModel",
          "state": {
            "_dom_classes": [],
            "_model_module": "@jupyter-widgets/controls",
            "_model_module_version": "1.5.0",
            "_model_name": "HTMLModel",
            "_view_count": null,
            "_view_module": "@jupyter-widgets/controls",
            "_view_module_version": "1.5.0",
            "_view_name": "HTMLView",
            "description": "",
            "description_tooltip": null,
            "layout": "IPY_MODEL_fe400766f7e648b3a67a96ba9e4c4055",
            "placeholder": "​",
            "style": "IPY_MODEL_7c5dee00be6e40f786f0cd4877e55a93",
            "value": " 0/1 [00:00&lt;?, ?file/s]"
          }
        },
        "50f0cd4d9b6e4c9bb73fddf235d1fc4e": {
          "model_module": "@jupyter-widgets/controls",
          "model_module_version": "1.5.0",
          "model_name": "HTMLModel",
          "state": {
            "_dom_classes": [],
            "_model_module": "@jupyter-widgets/controls",
            "_model_module_version": "1.5.0",
            "_model_name": "HTMLModel",
            "_view_count": null,
            "_view_module": "@jupyter-widgets/controls",
            "_view_module_version": "1.5.0",
            "_view_name": "HTMLView",
            "description": "",
            "description_tooltip": null,
            "layout": "IPY_MODEL_877fc1fd79574201a3917ead63fb410b",
            "placeholder": "​",
            "style": "IPY_MODEL_f2b9fff6cacd4b91b25214a061af07a2",
            "value": " 0/1 [00:00&lt;?, ?file/s]"
          }
        },
        "590597bb6ce347939c4b286d0430e4a5": {
          "model_module": "@jupyter-widgets/base",
          "model_module_version": "1.2.0",
          "model_name": "LayoutModel",
          "state": {
            "_model_module": "@jupyter-widgets/base",
            "_model_module_version": "1.2.0",
            "_model_name": "LayoutModel",
            "_view_count": null,
            "_view_module": "@jupyter-widgets/base",
            "_view_module_version": "1.2.0",
            "_view_name": "LayoutView",
            "align_content": null,
            "align_items": null,
            "align_self": null,
            "border": null,
            "bottom": null,
            "display": null,
            "flex": null,
            "flex_flow": null,
            "grid_area": null,
            "grid_auto_columns": null,
            "grid_auto_flow": null,
            "grid_auto_rows": null,
            "grid_column": null,
            "grid_gap": null,
            "grid_row": null,
            "grid_template_areas": null,
            "grid_template_columns": null,
            "grid_template_rows": null,
            "height": null,
            "justify_content": null,
            "justify_items": null,
            "left": null,
            "margin": null,
            "max_height": null,
            "max_width": null,
            "min_height": null,
            "min_width": null,
            "object_fit": null,
            "object_position": null,
            "order": null,
            "overflow": null,
            "overflow_x": null,
            "overflow_y": null,
            "padding": null,
            "right": null,
            "top": null,
            "visibility": null,
            "width": null
          }
        },
        "7554b1d4815b4b23be36d4bb1f55f794": {
          "model_module": "@jupyter-widgets/controls",
          "model_module_version": "1.5.0",
          "model_name": "ProgressStyleModel",
          "state": {
            "_model_module": "@jupyter-widgets/controls",
            "_model_module_version": "1.5.0",
            "_model_name": "ProgressStyleModel",
            "_view_count": null,
            "_view_module": "@jupyter-widgets/base",
            "_view_module_version": "1.2.0",
            "_view_name": "StyleView",
            "bar_color": null,
            "description_width": ""
          }
        },
        "77c08d686d6347039d2361300a9594e7": {
          "model_module": "@jupyter-widgets/base",
          "model_module_version": "1.2.0",
          "model_name": "LayoutModel",
          "state": {
            "_model_module": "@jupyter-widgets/base",
            "_model_module_version": "1.2.0",
            "_model_name": "LayoutModel",
            "_view_count": null,
            "_view_module": "@jupyter-widgets/base",
            "_view_module_version": "1.2.0",
            "_view_name": "LayoutView",
            "align_content": null,
            "align_items": null,
            "align_self": null,
            "border": null,
            "bottom": null,
            "display": null,
            "flex": null,
            "flex_flow": null,
            "grid_area": null,
            "grid_auto_columns": null,
            "grid_auto_flow": null,
            "grid_auto_rows": null,
            "grid_column": null,
            "grid_gap": null,
            "grid_row": null,
            "grid_template_areas": null,
            "grid_template_columns": null,
            "grid_template_rows": null,
            "height": null,
            "justify_content": null,
            "justify_items": null,
            "left": null,
            "margin": null,
            "max_height": null,
            "max_width": null,
            "min_height": null,
            "min_width": null,
            "object_fit": null,
            "object_position": null,
            "order": null,
            "overflow": null,
            "overflow_x": null,
            "overflow_y": null,
            "padding": null,
            "right": null,
            "top": null,
            "visibility": null,
            "width": null
          }
        },
        "79d2387849e84cf7b8b55ca4c6c092cb": {
          "model_module": "@jupyter-widgets/base",
          "model_module_version": "1.2.0",
          "model_name": "LayoutModel",
          "state": {
            "_model_module": "@jupyter-widgets/base",
            "_model_module_version": "1.2.0",
            "_model_name": "LayoutModel",
            "_view_count": null,
            "_view_module": "@jupyter-widgets/base",
            "_view_module_version": "1.2.0",
            "_view_name": "LayoutView",
            "align_content": null,
            "align_items": null,
            "align_self": null,
            "border": null,
            "bottom": null,
            "display": null,
            "flex": null,
            "flex_flow": null,
            "grid_area": null,
            "grid_auto_columns": null,
            "grid_auto_flow": null,
            "grid_auto_rows": null,
            "grid_column": null,
            "grid_gap": null,
            "grid_row": null,
            "grid_template_areas": null,
            "grid_template_columns": null,
            "grid_template_rows": null,
            "height": null,
            "justify_content": null,
            "justify_items": null,
            "left": null,
            "margin": null,
            "max_height": null,
            "max_width": null,
            "min_height": null,
            "min_width": null,
            "object_fit": null,
            "object_position": null,
            "order": null,
            "overflow": null,
            "overflow_x": null,
            "overflow_y": null,
            "padding": null,
            "right": null,
            "top": null,
            "visibility": null,
            "width": null
          }
        },
        "7c5dee00be6e40f786f0cd4877e55a93": {
          "model_module": "@jupyter-widgets/controls",
          "model_module_version": "1.5.0",
          "model_name": "DescriptionStyleModel",
          "state": {
            "_model_module": "@jupyter-widgets/controls",
            "_model_module_version": "1.5.0",
            "_model_name": "DescriptionStyleModel",
            "_view_count": null,
            "_view_module": "@jupyter-widgets/base",
            "_view_module_version": "1.2.0",
            "_view_name": "StyleView",
            "description_width": ""
          }
        },
        "85354dec85e7468ebb4ee1d83ce84929": {
          "model_module": "@jupyter-widgets/base",
          "model_module_version": "1.2.0",
          "model_name": "LayoutModel",
          "state": {
            "_model_module": "@jupyter-widgets/base",
            "_model_module_version": "1.2.0",
            "_model_name": "LayoutModel",
            "_view_count": null,
            "_view_module": "@jupyter-widgets/base",
            "_view_module_version": "1.2.0",
            "_view_name": "LayoutView",
            "align_content": null,
            "align_items": null,
            "align_self": null,
            "border": null,
            "bottom": null,
            "display": null,
            "flex": null,
            "flex_flow": null,
            "grid_area": null,
            "grid_auto_columns": null,
            "grid_auto_flow": null,
            "grid_auto_rows": null,
            "grid_column": null,
            "grid_gap": null,
            "grid_row": null,
            "grid_template_areas": null,
            "grid_template_columns": null,
            "grid_template_rows": null,
            "height": null,
            "justify_content": null,
            "justify_items": null,
            "left": null,
            "margin": null,
            "max_height": null,
            "max_width": null,
            "min_height": null,
            "min_width": null,
            "object_fit": null,
            "object_position": null,
            "order": null,
            "overflow": null,
            "overflow_x": null,
            "overflow_y": null,
            "padding": null,
            "right": null,
            "top": null,
            "visibility": null,
            "width": null
          }
        },
        "877fc1fd79574201a3917ead63fb410b": {
          "model_module": "@jupyter-widgets/base",
          "model_module_version": "1.2.0",
          "model_name": "LayoutModel",
          "state": {
            "_model_module": "@jupyter-widgets/base",
            "_model_module_version": "1.2.0",
            "_model_name": "LayoutModel",
            "_view_count": null,
            "_view_module": "@jupyter-widgets/base",
            "_view_module_version": "1.2.0",
            "_view_name": "LayoutView",
            "align_content": null,
            "align_items": null,
            "align_self": null,
            "border": null,
            "bottom": null,
            "display": null,
            "flex": null,
            "flex_flow": null,
            "grid_area": null,
            "grid_auto_columns": null,
            "grid_auto_flow": null,
            "grid_auto_rows": null,
            "grid_column": null,
            "grid_gap": null,
            "grid_row": null,
            "grid_template_areas": null,
            "grid_template_columns": null,
            "grid_template_rows": null,
            "height": null,
            "justify_content": null,
            "justify_items": null,
            "left": null,
            "margin": null,
            "max_height": null,
            "max_width": null,
            "min_height": null,
            "min_width": null,
            "object_fit": null,
            "object_position": null,
            "order": null,
            "overflow": null,
            "overflow_x": null,
            "overflow_y": null,
            "padding": null,
            "right": null,
            "top": null,
            "visibility": null,
            "width": null
          }
        },
        "8ba30e137f524ceb9bfb03d2c9fdbb83": {
          "model_module": "@jupyter-widgets/controls",
          "model_module_version": "1.5.0",
          "model_name": "DescriptionStyleModel",
          "state": {
            "_model_module": "@jupyter-widgets/controls",
            "_model_module_version": "1.5.0",
            "_model_name": "DescriptionStyleModel",
            "_view_count": null,
            "_view_module": "@jupyter-widgets/base",
            "_view_module_version": "1.2.0",
            "_view_name": "StyleView",
            "description_width": ""
          }
        },
        "8f793ced6d8142a580610f10516d84fc": {
          "model_module": "@jupyter-widgets/base",
          "model_module_version": "1.2.0",
          "model_name": "LayoutModel",
          "state": {
            "_model_module": "@jupyter-widgets/base",
            "_model_module_version": "1.2.0",
            "_model_name": "LayoutModel",
            "_view_count": null,
            "_view_module": "@jupyter-widgets/base",
            "_view_module_version": "1.2.0",
            "_view_name": "LayoutView",
            "align_content": null,
            "align_items": null,
            "align_self": null,
            "border": null,
            "bottom": null,
            "display": null,
            "flex": null,
            "flex_flow": null,
            "grid_area": null,
            "grid_auto_columns": null,
            "grid_auto_flow": null,
            "grid_auto_rows": null,
            "grid_column": null,
            "grid_gap": null,
            "grid_row": null,
            "grid_template_areas": null,
            "grid_template_columns": null,
            "grid_template_rows": null,
            "height": null,
            "justify_content": null,
            "justify_items": null,
            "left": null,
            "margin": null,
            "max_height": null,
            "max_width": null,
            "min_height": null,
            "min_width": null,
            "object_fit": null,
            "object_position": null,
            "order": null,
            "overflow": null,
            "overflow_x": null,
            "overflow_y": null,
            "padding": null,
            "right": null,
            "top": null,
            "visibility": null,
            "width": null
          }
        },
        "9227cb9e8f9c43aca05768d4ae99d0c5": {
          "model_module": "@jupyter-widgets/controls",
          "model_module_version": "1.5.0",
          "model_name": "FloatProgressModel",
          "state": {
            "_dom_classes": [],
            "_model_module": "@jupyter-widgets/controls",
            "_model_module_version": "1.5.0",
            "_model_name": "FloatProgressModel",
            "_view_count": null,
            "_view_module": "@jupyter-widgets/controls",
            "_view_module_version": "1.5.0",
            "_view_name": "ProgressView",
            "bar_style": "danger",
            "description": "",
            "description_tooltip": null,
            "layout": "IPY_MODEL_590597bb6ce347939c4b286d0430e4a5",
            "max": 1,
            "min": 0,
            "orientation": "horizontal",
            "style": "IPY_MODEL_01198ed4757f49d59352b8c4c86a079e",
            "value": 0
          }
        },
        "93802354bb2e46219d72196b54b1f3c5": {
          "model_module": "@jupyter-widgets/controls",
          "model_module_version": "1.5.0",
          "model_name": "FloatProgressModel",
          "state": {
            "_dom_classes": [],
            "_model_module": "@jupyter-widgets/controls",
            "_model_module_version": "1.5.0",
            "_model_name": "FloatProgressModel",
            "_view_count": null,
            "_view_module": "@jupyter-widgets/controls",
            "_view_module_version": "1.5.0",
            "_view_name": "ProgressView",
            "bar_style": "danger",
            "description": "",
            "description_tooltip": null,
            "layout": "IPY_MODEL_f97a910a100346b2a5e9bfe2f8524a3c",
            "max": 1,
            "min": 0,
            "orientation": "horizontal",
            "style": "IPY_MODEL_7554b1d4815b4b23be36d4bb1f55f794",
            "value": 0
          }
        },
        "a2620e0d0764402aad5bcf23fecdbcc0": {
          "model_module": "@jupyter-widgets/controls",
          "model_module_version": "1.5.0",
          "model_name": "HTMLModel",
          "state": {
            "_dom_classes": [],
            "_model_module": "@jupyter-widgets/controls",
            "_model_module_version": "1.5.0",
            "_model_name": "HTMLModel",
            "_view_count": null,
            "_view_module": "@jupyter-widgets/controls",
            "_view_module_version": "1.5.0",
            "_view_name": "HTMLView",
            "description": "",
            "description_tooltip": null,
            "layout": "IPY_MODEL_e085f854a67843cea527fe9f49cace07",
            "placeholder": "​",
            "style": "IPY_MODEL_8ba30e137f524ceb9bfb03d2c9fdbb83",
            "value": "Files Downloaded:   0%"
          }
        },
        "aaa15cc438b94a788d1862ef5a7cbbca": {
          "model_module": "@jupyter-widgets/controls",
          "model_module_version": "1.5.0",
          "model_name": "HBoxModel",
          "state": {
            "_dom_classes": [],
            "_model_module": "@jupyter-widgets/controls",
            "_model_module_version": "1.5.0",
            "_model_name": "HBoxModel",
            "_view_count": null,
            "_view_module": "@jupyter-widgets/controls",
            "_view_module_version": "1.5.0",
            "_view_name": "HBoxView",
            "box_style": "",
            "children": [
              "IPY_MODEL_c00478d5391b4d04b922e640b4649e6f",
              "IPY_MODEL_d00c9f8866e24a8588dd327a3a3f033b",
              "IPY_MODEL_49ee16ff121c4145827c0df721fb5476"
            ],
            "layout": "IPY_MODEL_cacdcf347a0c43f8a9d7032455e5ad15"
          }
        },
        "b5576529250b4a2384f3023c6675f8e5": {
          "model_module": "@jupyter-widgets/controls",
          "model_module_version": "1.5.0",
          "model_name": "DescriptionStyleModel",
          "state": {
            "_model_module": "@jupyter-widgets/controls",
            "_model_module_version": "1.5.0",
            "_model_name": "DescriptionStyleModel",
            "_view_count": null,
            "_view_module": "@jupyter-widgets/base",
            "_view_module_version": "1.2.0",
            "_view_name": "StyleView",
            "description_width": ""
          }
        },
        "c00478d5391b4d04b922e640b4649e6f": {
          "model_module": "@jupyter-widgets/controls",
          "model_module_version": "1.5.0",
          "model_name": "HTMLModel",
          "state": {
            "_dom_classes": [],
            "_model_module": "@jupyter-widgets/controls",
            "_model_module_version": "1.5.0",
            "_model_name": "HTMLModel",
            "_view_count": null,
            "_view_module": "@jupyter-widgets/controls",
            "_view_module_version": "1.5.0",
            "_view_name": "HTMLView",
            "description": "",
            "description_tooltip": null,
            "layout": "IPY_MODEL_8f793ced6d8142a580610f10516d84fc",
            "placeholder": "​",
            "style": "IPY_MODEL_f0cf1f0530c94bb29ec10c56d5e42bc3",
            "value": "Files Downloaded:   0%"
          }
        },
        "cacdcf347a0c43f8a9d7032455e5ad15": {
          "model_module": "@jupyter-widgets/base",
          "model_module_version": "1.2.0",
          "model_name": "LayoutModel",
          "state": {
            "_model_module": "@jupyter-widgets/base",
            "_model_module_version": "1.2.0",
            "_model_name": "LayoutModel",
            "_view_count": null,
            "_view_module": "@jupyter-widgets/base",
            "_view_module_version": "1.2.0",
            "_view_name": "LayoutView",
            "align_content": null,
            "align_items": null,
            "align_self": null,
            "border": null,
            "bottom": null,
            "display": null,
            "flex": null,
            "flex_flow": null,
            "grid_area": null,
            "grid_auto_columns": null,
            "grid_auto_flow": null,
            "grid_auto_rows": null,
            "grid_column": null,
            "grid_gap": null,
            "grid_row": null,
            "grid_template_areas": null,
            "grid_template_columns": null,
            "grid_template_rows": null,
            "height": null,
            "justify_content": null,
            "justify_items": null,
            "left": null,
            "margin": null,
            "max_height": null,
            "max_width": null,
            "min_height": null,
            "min_width": null,
            "object_fit": null,
            "object_position": null,
            "order": null,
            "overflow": null,
            "overflow_x": null,
            "overflow_y": null,
            "padding": null,
            "right": null,
            "top": null,
            "visibility": null,
            "width": null
          }
        },
        "d00c9f8866e24a8588dd327a3a3f033b": {
          "model_module": "@jupyter-widgets/controls",
          "model_module_version": "1.5.0",
          "model_name": "FloatProgressModel",
          "state": {
            "_dom_classes": [],
            "_model_module": "@jupyter-widgets/controls",
            "_model_module_version": "1.5.0",
            "_model_name": "FloatProgressModel",
            "_view_count": null,
            "_view_module": "@jupyter-widgets/controls",
            "_view_module_version": "1.5.0",
            "_view_name": "ProgressView",
            "bar_style": "danger",
            "description": "",
            "description_tooltip": null,
            "layout": "IPY_MODEL_77c08d686d6347039d2361300a9594e7",
            "max": 1,
            "min": 0,
            "orientation": "horizontal",
            "style": "IPY_MODEL_dab4d4431fe14065bc5298a0b3806f83",
            "value": 0
          }
        },
        "d6e2e159a7bd40d4a2bb763784987c44": {
          "model_module": "@jupyter-widgets/controls",
          "model_module_version": "1.5.0",
          "model_name": "HTMLModel",
          "state": {
            "_dom_classes": [],
            "_model_module": "@jupyter-widgets/controls",
            "_model_module_version": "1.5.0",
            "_model_name": "HTMLModel",
            "_view_count": null,
            "_view_module": "@jupyter-widgets/controls",
            "_view_module_version": "1.5.0",
            "_view_name": "HTMLView",
            "description": "",
            "description_tooltip": null,
            "layout": "IPY_MODEL_79d2387849e84cf7b8b55ca4c6c092cb",
            "placeholder": "​",
            "style": "IPY_MODEL_b5576529250b4a2384f3023c6675f8e5",
            "value": " 0/1 [00:11&lt;?, ?file/s]"
          }
        },
        "dab4d4431fe14065bc5298a0b3806f83": {
          "model_module": "@jupyter-widgets/controls",
          "model_module_version": "1.5.0",
          "model_name": "ProgressStyleModel",
          "state": {
            "_model_module": "@jupyter-widgets/controls",
            "_model_module_version": "1.5.0",
            "_model_name": "ProgressStyleModel",
            "_view_count": null,
            "_view_module": "@jupyter-widgets/base",
            "_view_module_version": "1.2.0",
            "_view_name": "StyleView",
            "bar_color": null,
            "description_width": ""
          }
        },
        "e085f854a67843cea527fe9f49cace07": {
          "model_module": "@jupyter-widgets/base",
          "model_module_version": "1.2.0",
          "model_name": "LayoutModel",
          "state": {
            "_model_module": "@jupyter-widgets/base",
            "_model_module_version": "1.2.0",
            "_model_name": "LayoutModel",
            "_view_count": null,
            "_view_module": "@jupyter-widgets/base",
            "_view_module_version": "1.2.0",
            "_view_name": "LayoutView",
            "align_content": null,
            "align_items": null,
            "align_self": null,
            "border": null,
            "bottom": null,
            "display": null,
            "flex": null,
            "flex_flow": null,
            "grid_area": null,
            "grid_auto_columns": null,
            "grid_auto_flow": null,
            "grid_auto_rows": null,
            "grid_column": null,
            "grid_gap": null,
            "grid_row": null,
            "grid_template_areas": null,
            "grid_template_columns": null,
            "grid_template_rows": null,
            "height": null,
            "justify_content": null,
            "justify_items": null,
            "left": null,
            "margin": null,
            "max_height": null,
            "max_width": null,
            "min_height": null,
            "min_width": null,
            "object_fit": null,
            "object_position": null,
            "order": null,
            "overflow": null,
            "overflow_x": null,
            "overflow_y": null,
            "padding": null,
            "right": null,
            "top": null,
            "visibility": null,
            "width": null
          }
        },
        "f0cf1f0530c94bb29ec10c56d5e42bc3": {
          "model_module": "@jupyter-widgets/controls",
          "model_module_version": "1.5.0",
          "model_name": "DescriptionStyleModel",
          "state": {
            "_model_module": "@jupyter-widgets/controls",
            "_model_module_version": "1.5.0",
            "_model_name": "DescriptionStyleModel",
            "_view_count": null,
            "_view_module": "@jupyter-widgets/base",
            "_view_module_version": "1.2.0",
            "_view_name": "StyleView",
            "description_width": ""
          }
        },
        "f2b9fff6cacd4b91b25214a061af07a2": {
          "model_module": "@jupyter-widgets/controls",
          "model_module_version": "1.5.0",
          "model_name": "DescriptionStyleModel",
          "state": {
            "_model_module": "@jupyter-widgets/controls",
            "_model_module_version": "1.5.0",
            "_model_name": "DescriptionStyleModel",
            "_view_count": null,
            "_view_module": "@jupyter-widgets/base",
            "_view_module_version": "1.2.0",
            "_view_name": "StyleView",
            "description_width": ""
          }
        },
        "f97a910a100346b2a5e9bfe2f8524a3c": {
          "model_module": "@jupyter-widgets/base",
          "model_module_version": "1.2.0",
          "model_name": "LayoutModel",
          "state": {
            "_model_module": "@jupyter-widgets/base",
            "_model_module_version": "1.2.0",
            "_model_name": "LayoutModel",
            "_view_count": null,
            "_view_module": "@jupyter-widgets/base",
            "_view_module_version": "1.2.0",
            "_view_name": "LayoutView",
            "align_content": null,
            "align_items": null,
            "align_self": null,
            "border": null,
            "bottom": null,
            "display": null,
            "flex": null,
            "flex_flow": null,
            "grid_area": null,
            "grid_auto_columns": null,
            "grid_auto_flow": null,
            "grid_auto_rows": null,
            "grid_column": null,
            "grid_gap": null,
            "grid_row": null,
            "grid_template_areas": null,
            "grid_template_columns": null,
            "grid_template_rows": null,
            "height": null,
            "justify_content": null,
            "justify_items": null,
            "left": null,
            "margin": null,
            "max_height": null,
            "max_width": null,
            "min_height": null,
            "min_width": null,
            "object_fit": null,
            "object_position": null,
            "order": null,
            "overflow": null,
            "overflow_x": null,
            "overflow_y": null,
            "padding": null,
            "right": null,
            "top": null,
            "visibility": null,
            "width": null
          }
        },
        "fe400766f7e648b3a67a96ba9e4c4055": {
          "model_module": "@jupyter-widgets/base",
          "model_module_version": "1.2.0",
          "model_name": "LayoutModel",
          "state": {
            "_model_module": "@jupyter-widgets/base",
            "_model_module_version": "1.2.0",
            "_model_name": "LayoutModel",
            "_view_count": null,
            "_view_module": "@jupyter-widgets/base",
            "_view_module_version": "1.2.0",
            "_view_name": "LayoutView",
            "align_content": null,
            "align_items": null,
            "align_self": null,
            "border": null,
            "bottom": null,
            "display": null,
            "flex": null,
            "flex_flow": null,
            "grid_area": null,
            "grid_auto_columns": null,
            "grid_auto_flow": null,
            "grid_auto_rows": null,
            "grid_column": null,
            "grid_gap": null,
            "grid_row": null,
            "grid_template_areas": null,
            "grid_template_columns": null,
            "grid_template_rows": null,
            "height": null,
            "justify_content": null,
            "justify_items": null,
            "left": null,
            "margin": null,
            "max_height": null,
            "max_width": null,
            "min_height": null,
            "min_width": null,
            "object_fit": null,
            "object_position": null,
            "order": null,
            "overflow": null,
            "overflow_x": null,
            "overflow_y": null,
            "padding": null,
            "right": null,
            "top": null,
            "visibility": null,
            "width": null
          }
        }
      }
    }
  },
  "nbformat": 4,
  "nbformat_minor": 5
}
